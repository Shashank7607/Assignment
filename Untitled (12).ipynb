{
 "cells": [
  {
   "cell_type": "code",
   "execution_count": 1,
   "id": "f3463391-2d2b-4fd8-a7c0-0ae78b5ca65a",
   "metadata": {},
   "outputs": [],
   "source": [
    "#ans1"
   ]
  },
  {
   "cell_type": "code",
   "execution_count": 2,
   "id": "d484de25-f9af-4aff-8efe-d25957b9c2b5",
   "metadata": {},
   "outputs": [],
   "source": [
    "class Vehicle:\n",
    "    def __init__(self, name_of_vehicle, max_speed, average_of_vehicle):\n",
    "        self.name_of_vehicle = name_of_vehicle\n",
    "        self.max_speed = max_speed\n",
    "        self.average_of_vehicle = average_of_vehicle\n"
   ]
  },
  {
   "cell_type": "code",
   "execution_count": 3,
   "id": "6854e9ff-235d-4e70-82b9-eb09cb8f17b4",
   "metadata": {},
   "outputs": [],
   "source": [
    "my_car = Vehicle(\"Tesla Model S\", 155, 400)\n"
   ]
  },
  {
   "cell_type": "code",
   "execution_count": 4,
   "id": "b0b26fff-c182-461f-b179-9cb15a8671e8",
   "metadata": {},
   "outputs": [],
   "source": [
    "#In this example, my_car is an instance of the Vehicle class, and its name_of_vehicle is \"Tesla Model S\", its max_speed is 155, and its average_of_vehicle is 400."
   ]
  },
  {
   "cell_type": "code",
   "execution_count": 5,
   "id": "6f8ff5ab-6911-44b1-93e4-1e61371f38b9",
   "metadata": {},
   "outputs": [],
   "source": [
    "#ans2"
   ]
  },
  {
   "cell_type": "code",
   "execution_count": 6,
   "id": "c189b371-a2d3-4e1d-994a-a9c4923594a0",
   "metadata": {},
   "outputs": [],
   "source": [
    "class Car(Vehicle):\n",
    "    def __init__(self, name_of_vehicle, max_speed, average_of_vehicle):\n",
    "        super().__init__(name_of_vehicle, max_speed, average_of_vehicle)\n",
    "    \n",
    "    def seating_capacity(self, capacity):\n",
    "        return f\"{self.name_of_vehicle} has a seating capacity of {capacity} persons.\"\n"
   ]
  },
  {
   "cell_type": "code",
   "execution_count": 7,
   "id": "27999f19-a126-4bd5-90a3-e3eeb49239a9",
   "metadata": {},
   "outputs": [
    {
     "name": "stdout",
     "output_type": "stream",
     "text": [
      "Tesla Model S has a seating capacity of 5 persons.\n"
     ]
    }
   ],
   "source": [
    "my_car = Car(\"Tesla Model S\", 155, 400)\n",
    "print(my_car.seating_capacity(5))\n"
   ]
  },
  {
   "cell_type": "code",
   "execution_count": 8,
   "id": "031fa8cc-e5cb-4c06-8289-b3edcd933ead",
   "metadata": {},
   "outputs": [],
   "source": [
    "#ans3"
   ]
  },
  {
   "cell_type": "code",
   "execution_count": 9,
   "id": "b3eff7b4-cd7c-492a-a646-424ebe299956",
   "metadata": {},
   "outputs": [],
   "source": [
    "#Multiple inheritance is a feature of object-oriented programming languages like Python that allows a class to inherit from multiple base classes. When a class inherits from multiple classes, it can inherit attributes and methods from all of them."
   ]
  },
  {
   "cell_type": "code",
   "execution_count": 10,
   "id": "052c06eb-a33e-46ac-a4b3-db71910f015c",
   "metadata": {},
   "outputs": [],
   "source": [
    "class Base1:\n",
    "    def method1(self):\n",
    "        print(\"This is method 1 from Base 1.\")\n",
    "        \n",
    "class Base2:\n",
    "    def method2(self):\n",
    "        print(\"This is method 2 from Base 2.\")\n",
    "        \n",
    "class Derived(Base1, Base2):\n",
    "    def method3(self):\n",
    "        print(\"This is method 3 from Derived.\")\n"
   ]
  },
  {
   "cell_type": "code",
   "execution_count": 11,
   "id": "f3e875ba-de94-43fe-8856-73b241c52f35",
   "metadata": {},
   "outputs": [
    {
     "name": "stdout",
     "output_type": "stream",
     "text": [
      "This is method 1 from Base 1.\n",
      "This is method 2 from Base 2.\n",
      "This is method 3 from Derived.\n"
     ]
    }
   ],
   "source": [
    "d = Derived()\n",
    "d.method1()  # This is method 1 from Base 1.\n",
    "d.method2()  # This is method 2 from Base 2.\n",
    "d.method3()  # This is method 3 from Derived.\n"
   ]
  },
  {
   "cell_type": "code",
   "execution_count": 12,
   "id": "55ac38d3-f319-4ac3-a04c-e08d725961b9",
   "metadata": {},
   "outputs": [],
   "source": [
    "#In this example, you can see that the Derived instance d can call methods from both Base1 and Base2, as well as its own method3. This is the power of multiple inheritance in Python."
   ]
  },
  {
   "cell_type": "code",
   "execution_count": 13,
   "id": "9344980c-a39d-468d-8351-4214d53dc1ec",
   "metadata": {},
   "outputs": [],
   "source": [
    "#ans4"
   ]
  },
  {
   "cell_type": "code",
   "execution_count": 14,
   "id": "aa3795cd-a9b2-40db-95c1-192479ae6d66",
   "metadata": {},
   "outputs": [],
   "source": [
    "#Getter and setter methods are a way to encapsulate access to instance variables in object-oriented programming languages like Python. They provide a way to get and set the value of an instance variable, while also allowing for additional logic or validation to be performed when the variable is accessed or modified."
   ]
  },
  {
   "cell_type": "code",
   "execution_count": 15,
   "id": "500135f0-4356-48db-9af8-cba8b63b5c96",
   "metadata": {},
   "outputs": [],
   "source": [
    "#In Python, getter and setter methods are usually implemented using the @property and @<variable_name>.setter decorators, respectively."
   ]
  },
  {
   "cell_type": "code",
   "execution_count": 16,
   "id": "7d098122-69c5-4f42-8b70-88711ce926d9",
   "metadata": {},
   "outputs": [
    {
     "name": "stdout",
     "output_type": "stream",
     "text": [
      "Hello, my name is Alice.\n",
      "Alice\n",
      "Hello, my name is Bob.\n",
      "Bob\n",
      "Name must be at least 2 characters long.\n",
      "Bob\n"
     ]
    }
   ],
   "source": [
    "class Person:\n",
    "    def __init__(self, name):\n",
    "        self._name = name\n",
    "    \n",
    "    @property\n",
    "    def name(self):\n",
    "        return self._name\n",
    "    \n",
    "    @name.setter\n",
    "    def name(self, new_name):\n",
    "        if len(new_name) >= 2:\n",
    "            self._name = new_name\n",
    "        else:\n",
    "            print(\"Name must be at least 2 characters long.\")\n",
    "    \n",
    "    def greet(self):\n",
    "        print(f\"Hello, my name is {self._name}.\")\n",
    "\n",
    "# Example usage:\n",
    "p = Person(\"Alice\")\n",
    "p.greet()  # Hello, my name is Alice.\n",
    "print(p.name)  # Alice\n",
    "\n",
    "p.name = \"Bob\"\n",
    "p.greet()  # Hello, my name is Bob.\n",
    "print(p.name)  # Bob\n",
    "\n",
    "p.name = \"A\"\n",
    "print(p.name)  # Name must be at least 2 characters long.\n"
   ]
  },
  {
   "cell_type": "code",
   "execution_count": 17,
   "id": "77bc4a32-00fb-42fe-ad9e-67277d81f82d",
   "metadata": {},
   "outputs": [],
   "source": [
    "#In the example usage, you can see how the getter and setter methods are used to get and set the value of the name variable, while also performing validation."
   ]
  },
  {
   "cell_type": "code",
   "execution_count": 18,
   "id": "c9a2f8e5-b325-437a-914d-746baf003643",
   "metadata": {},
   "outputs": [],
   "source": [
    "#ans5"
   ]
  },
  {
   "cell_type": "code",
   "execution_count": 19,
   "id": "96ffefe0-67ac-46aa-bd8a-a5e2df82fc66",
   "metadata": {},
   "outputs": [],
   "source": [
    "#Method overriding is a feature of object-oriented programming that allows a subclass to provide its own implementation of a method that is already defined in its superclass. This is useful when the subclass needs to modify or extend the behavior of the method."
   ]
  },
  {
   "cell_type": "code",
   "execution_count": 20,
   "id": "e36cd4ae-0afc-4af1-93f4-3e4617b501e6",
   "metadata": {},
   "outputs": [],
   "source": [
    "#In Python, method overriding is achieved simply by defining a method with the same name in the subclass as the one in the superclass. When an object of the subclass calls the method, the subclass's implementation is used instead of the superclass's."
   ]
  },
  {
   "cell_type": "code",
   "execution_count": 21,
   "id": "e18039ab-d794-4f6a-938f-02819960724d",
   "metadata": {},
   "outputs": [
    {
     "name": "stdout",
     "output_type": "stream",
     "text": [
      "The animal makes a sound.\n",
      "The dog barks.\n",
      "The cat meows.\n"
     ]
    }
   ],
   "source": [
    "class Animal:\n",
    "    def speak(self):\n",
    "        print(\"The animal makes a sound.\")\n",
    "\n",
    "class Dog(Animal):\n",
    "    def speak(self):\n",
    "        print(\"The dog barks.\")\n",
    "\n",
    "class Cat(Animal):\n",
    "    def speak(self):\n",
    "        print(\"The cat meows.\")\n",
    "\n",
    "a = Animal()\n",
    "a.speak()  # The animal makes a sound.\n",
    "\n",
    "d = Dog()\n",
    "d.speak()  # The dog barks.\n",
    "\n",
    "c = Cat()\n",
    "c.speak()  # The cat meows.\n"
   ]
  },
  {
   "cell_type": "code",
   "execution_count": 22,
   "id": "a7deaa6a-bb00-422c-a871-04c56553d4d7",
   "metadata": {},
   "outputs": [],
   "source": [
    "#You can see this in the example usage, where an object of each class is created and its speak method is called. The output shows that the appropriate subclass's implementation of speak is used for each object."
   ]
  },
  {
   "cell_type": "code",
   "execution_count": null,
   "id": "baecf98d-10ec-48b4-bc89-3ceef8db8528",
   "metadata": {},
   "outputs": [],
   "source": []
  }
 ],
 "metadata": {
  "kernelspec": {
   "display_name": "Python 3 (ipykernel)",
   "language": "python",
   "name": "python3"
  },
  "language_info": {
   "codemirror_mode": {
    "name": "ipython",
    "version": 3
   },
   "file_extension": ".py",
   "mimetype": "text/x-python",
   "name": "python",
   "nbconvert_exporter": "python",
   "pygments_lexer": "ipython3",
   "version": "3.10.8"
  }
 },
 "nbformat": 4,
 "nbformat_minor": 5
}
